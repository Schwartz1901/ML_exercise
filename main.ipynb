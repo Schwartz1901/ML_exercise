{
 "cells": [
  {
   "cell_type": "code",
   "execution_count": 3,
   "metadata": {},
   "outputs": [],
   "source": [
    "import numpy as np"
   ]
  },
  {
   "cell_type": "code",
   "execution_count": 4,
   "metadata": {},
   "outputs": [],
   "source": [
    "train_data = [\n",
    "    {\"ID\": 1, \"Age\": 35, \"CreditScore\": 720, \"Education\": 16, \"RiskLevel\": \"Low\"},\n",
    "    {\"ID\": 2, \"Age\": 28, \"CreditScore\": 650, \"Education\": 14, \"RiskLevel\": \"High\"},\n",
    "    {\"ID\": 3, \"Age\": 45, \"CreditScore\": 750, \"Education\": \"missing\", \"RiskLevel\": \"Low\"},\n",
    "    {\"ID\": 4, \"Age\": 31, \"CreditScore\": 600, \"Education\": 12, \"RiskLevel\": \"High\"},\n",
    "    {\"ID\": 5, \"Age\": 52, \"CreditScore\": 780, \"Education\": 18, \"RiskLevel\": \"Low\"},\n",
    "    {\"ID\": 6, \"Age\": 29, \"CreditScore\": 630, \"Education\": 14, \"RiskLevel\": \"High\"},\n",
    "    {\"ID\": 7, \"Age\": 42, \"CreditScore\": 710, \"Education\": 16, \"RiskLevel\": \"Low\"},\n",
    "    {\"ID\": 8, \"Age\": 33, \"CreditScore\": 640, \"Education\": 12, \"RiskLevel\": \"High\"},\n",
    "]"
   ]
  },
  {
   "cell_type": "code",
   "execution_count": 5,
   "metadata": {},
   "outputs": [
    {
     "name": "stdout",
     "output_type": "stream",
     "text": [
      "Initial Entropy: 1.0000\n",
      "Left Entropy: -0.0000, Right Entropy: -0.0000\n",
      "Weighted Entropy: -0.0000\n",
      "Information Gain for CreditScore=650: 1.0000\n"
     ]
    }
   ],
   "source": [
    "### Question 1\n",
    "\n",
    "def entropy(arr):\n",
    "    values, counts = np.unique(arr, return_counts=True)\n",
    "    probs = counts / counts.sum()\n",
    "    return - np.sum(probs * np.log2(probs))\n",
    "\n",
    "risk_level =np.array([d[\"RiskLevel\"] for d in train_data])\n",
    "\n",
    "init_entropy = entropy(risk_level)\n",
    "\n",
    "left_subset = [d for d in train_data if d[\"CreditScore\"] <= 650]\n",
    "right_subset = [d for d in train_data if d[\"CreditScore\"] > 650]\n",
    "\n",
    "left_entropy = entropy(d[\"RiskLevel\"] for d in left_subset)\n",
    "right_entropy = entropy(d[\"RiskLevel\"] for d in right_subset)\n",
    "\n",
    "# Compute weighted entropy\n",
    "\n",
    "left_weight = len(left_subset) / len(train_data)\n",
    "right_weight = len(right_subset) / len(train_data)\n",
    "\n",
    "weighted_entropy = left_weight * left_entropy + right_weight * right_entropy\n",
    "\n",
    "information_gain = init_entropy - weighted_entropy\n",
    "\n",
    "print(f\"Initial Entropy: {init_entropy:.4f}\")\n",
    "print(f\"Left Entropy: {left_entropy:.4f}, Right Entropy: {right_entropy:.4f}\")\n",
    "print(f\"Weighted Entropy: {weighted_entropy:.4f}\")\n",
    "print(f\"Information Gain for CreditScore=650: {information_gain:.4f}\")\n"
   ]
  },
  {
   "cell_type": "code",
   "execution_count": 6,
   "metadata": {},
   "outputs": [
    {
     "name": "stdout",
     "output_type": "stream",
     "text": [
      "Variance Before Split: 3575.00\n",
      "Variance Left Split: 1576.00\n",
      "Variance Right Split: 822.22\n",
      "Weighted Variance After Split: 1293.33\n",
      "Variance Reduction: 2281.67\n"
     ]
    }
   ],
   "source": [
    "### Question 2\n",
    "\n",
    "ages = np.array([d[\"Age\"] for d in train_data])\n",
    "credit_scores = np.array([d[\"CreditScore\"] for d in train_data])\n",
    "\n",
    "init_variance = np.var(credit_scores)\n",
    "\n",
    "left_subset = [d for d in train_data if d[\"Age\"] <= 35]\n",
    "right_subset = [d for d in train_data if d[\"Age\"] > 35]\n",
    "\n",
    "left_variance = np.var([d[\"CreditScore\"] for d in left_subset])\n",
    "right_variance = np.var([d[\"CreditScore\"] for d in right_subset])\n",
    "\n",
    "weighted_variance = (len(left_subset) / len(train_data)) * left_variance + (len(right_subset) / len(train_data)) * right_variance\n",
    "\n",
    "variance_reduction = init_variance - weighted_variance\n",
    "\n",
    "print(f\"Variance Before Split: {init_variance:.2f}\")\n",
    "print(f\"Variance Left Split: {left_variance:.2f}\")\n",
    "print(f\"Variance Right Split: {right_variance:.2f}\")\n",
    "print(f\"Weighted Variance After Split: {weighted_variance:.2f}\")\n",
    "print(f\"Variance Reduction: {variance_reduction:.2f}\")"
   ]
  }
 ],
 "metadata": {
  "kernelspec": {
   "display_name": "Python 3",
   "language": "python",
   "name": "python3"
  },
  "language_info": {
   "codemirror_mode": {
    "name": "ipython",
    "version": 3
   },
   "file_extension": ".py",
   "mimetype": "text/x-python",
   "name": "python",
   "nbconvert_exporter": "python",
   "pygments_lexer": "ipython3",
   "version": "3.11.9"
  }
 },
 "nbformat": 4,
 "nbformat_minor": 2
}
