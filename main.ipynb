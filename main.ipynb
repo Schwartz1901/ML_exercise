{
 "cells": [
  {
   "cell_type": "code",
   "execution_count": 1,
   "metadata": {},
   "outputs": [],
   "source": [
    "import numpy as np"
   ]
  },
  {
   "cell_type": "code",
   "execution_count": 2,
   "metadata": {},
   "outputs": [],
   "source": [
    "train_data = [\n",
    "    {\"ID\": 1, \"Age\": 35, \"CreditScore\": 720, \"Education\": 16, \"RiskLevel\": \"Low\"},\n",
    "    {\"ID\": 2, \"Age\": 28, \"CreditScore\": 650, \"Education\": 14, \"RiskLevel\": \"High\"},\n",
    "    {\"ID\": 3, \"Age\": 45, \"CreditScore\": 750, \"Education\": \"missing\", \"RiskLevel\": \"Low\"},\n",
    "    {\"ID\": 4, \"Age\": 31, \"CreditScore\": 600, \"Education\": 12, \"RiskLevel\": \"High\"},\n",
    "    {\"ID\": 5, \"Age\": 52, \"CreditScore\": 780, \"Education\": 18, \"RiskLevel\": \"Low\"},\n",
    "    {\"ID\": 6, \"Age\": 29, \"CreditScore\": 630, \"Education\": 14, \"RiskLevel\": \"High\"},\n",
    "    {\"ID\": 7, \"Age\": 42, \"CreditScore\": 710, \"Education\": 16, \"RiskLevel\": \"Low\"},\n",
    "    {\"ID\": 8, \"Age\": 33, \"CreditScore\": 640, \"Education\": 12, \"RiskLevel\": \"High\"},\n",
    "]"
   ]
  },
  {
   "cell_type": "code",
   "execution_count": 14,
   "metadata": {},
   "outputs": [],
   "source": [
    "ages = np.array([d[\"Age\"] for d in train_data])\n",
    "credit_scores = np.array([d[\"CreditScore\"] for d in train_data])\n",
    "educations = np.array([d[\"Education\"] for d in train_data])\n",
    "\n",
    "risk_levels =np.array([d[\"RiskLevel\"] for d in train_data])"
   ]
  },
  {
   "cell_type": "code",
   "execution_count": 4,
   "metadata": {},
   "outputs": [
    {
     "name": "stdout",
     "output_type": "stream",
     "text": [
      "Initial Entropy: 1.0000\n",
      "Left Entropy: -0.0000, Right Entropy: -0.0000\n",
      "Weighted Entropy: -0.0000\n",
      "Information Gain for CreditScore=650: 1.0000\n"
     ]
    }
   ],
   "source": [
    "### Question 1\n",
    "\n",
    "def entropy(arr):\n",
    "    values, counts = np.unique(arr, return_counts=True)\n",
    "    probs = counts / counts.sum()\n",
    "    return - np.sum(probs * np.log2(probs))\n",
    "\n",
    "init_entropy = entropy(risk_levels)\n",
    "\n",
    "left_subset = [d for d in train_data if d[\"CreditScore\"] <= 650]\n",
    "right_subset = [d for d in train_data if d[\"CreditScore\"] > 650]\n",
    "\n",
    "left_entropy = entropy(d[\"RiskLevel\"] for d in left_subset)\n",
    "right_entropy = entropy(d[\"RiskLevel\"] for d in right_subset)\n",
    "\n",
    "# Compute weighted entropy\n",
    "\n",
    "left_weight = len(left_subset) / len(train_data)\n",
    "right_weight = len(right_subset) / len(train_data)\n",
    "\n",
    "weighted_entropy = left_weight * left_entropy + right_weight * right_entropy\n",
    "\n",
    "information_gain = init_entropy - weighted_entropy\n",
    "\n",
    "print(f\"Initial Entropy: {init_entropy:.4f}\")\n",
    "print(f\"Left Entropy: {left_entropy:.4f}, Right Entropy: {right_entropy:.4f}\")\n",
    "print(f\"Weighted Entropy: {weighted_entropy:.4f}\")\n",
    "print(f\"Information Gain for CreditScore=650: {information_gain:.4f}\")\n"
   ]
  },
  {
   "cell_type": "code",
   "execution_count": 5,
   "metadata": {},
   "outputs": [
    {
     "name": "stdout",
     "output_type": "stream",
     "text": [
      "Variance Before Split: 3575.00\n",
      "Variance Left Split: 1576.00\n",
      "Variance Right Split: 822.22\n",
      "Weighted Variance After Split: 1293.33\n",
      "Variance Reduction: 2281.67\n"
     ]
    }
   ],
   "source": [
    "### Question 2\n",
    "init_variance = np.var(credit_scores)\n",
    "\n",
    "left_subset = [d for d in train_data if d[\"Age\"] <= 35]\n",
    "right_subset = [d for d in train_data if d[\"Age\"] > 35]\n",
    "\n",
    "left_variance = np.var([d[\"CreditScore\"] for d in left_subset])\n",
    "right_variance = np.var([d[\"CreditScore\"] for d in right_subset])\n",
    "\n",
    "weighted_variance = (len(left_subset) / len(train_data)) * left_variance + (len(right_subset) / len(train_data)) * right_variance\n",
    "\n",
    "variance_reduction = init_variance - weighted_variance\n",
    "\n",
    "print(f\"Variance Before Split: {init_variance:.2f}\")\n",
    "print(f\"Variance Left Split: {left_variance:.2f}\")\n",
    "print(f\"Variance Right Split: {right_variance:.2f}\")\n",
    "print(f\"Weighted Variance After Split: {weighted_variance:.2f}\")\n",
    "print(f\"Variance Reduction: {variance_reduction:.2f}\")"
   ]
  },
  {
   "cell_type": "code",
   "execution_count": 6,
   "metadata": {},
   "outputs": [
    {
     "name": "stdout",
     "output_type": "stream",
     "text": [
      "Probability of High Risk: 1.0000\n"
     ]
    }
   ],
   "source": [
    "### Question 3\n",
    "# Split the dataset based on CreditScore = 650\n",
    "left_credit_subset = [d for d in train_data if d[\"CreditScore\"] <= 650]\n",
    "left_age_subset = [d for d in train_data if d[\"Age\"] <= 35]\n",
    "\n",
    "p_credit_score = sum(d[\"RiskLevel\"] == \"High\" for d in left_credit_subset) / len(left_credit_subset)\n",
    "p_age = sum(d[\"RiskLevel\"] == \"High\" for d in left_age_subset) / len(left_age_subset)\n",
    "\n",
    "p = 1 - (1 - p_credit_score) * (1 - p_age)\n",
    "\n",
    "print(f\"Probability of High Risk: {p:.4f}\")"
   ]
  },
  {
   "cell_type": "code",
   "execution_count": 7,
   "metadata": {},
   "outputs": [
    {
     "name": "stdout",
     "output_type": "stream",
     "text": [
      "Updated theta_0: 500.00625\n",
      "Updated theta_1: 6.31875\n"
     ]
    }
   ],
   "source": [
    "### Question 4\n",
    "\n",
    "# Initialize parameters\n",
    "theta_0 = 500\n",
    "theta_1 = 5\n",
    "learning_rate = 0.01\n",
    "m = len(ages) # Number of training examples\n",
    "\n",
    "# linear regression function\n",
    "y_predict = theta_1 * ages + theta_0\n",
    "\n",
    "loss_function = np.sum((y_predict - credit_scores) ** 2) / (2 * m)\n",
    "\n",
    "grad_theta_0 = np.sum(y_predict - credit_scores) / m\n",
    "grad_theta_1 = np.sum((y_predict - credit_scores) * ages) / m\n",
    "\n",
    "theta_0 -= learning_rate * grad_theta_0\n",
    "theta_1 -= learning_rate * grad_theta_1\n",
    "\n",
    "print(\"Updated theta_0:\", theta_0)\n",
    "print(\"Updated theta_1:\", theta_1)\n",
    "\n",
    "\n",
    "\n",
    "\n"
   ]
  },
  {
   "cell_type": "code",
   "execution_count": 42,
   "metadata": {},
   "outputs": [
    {
     "name": "stdout",
     "output_type": "stream",
     "text": [
      "Beta_0 =  317.6590696950762\n",
      "Beta_1 =  3.8664825762289605\n",
      "Beta_2 =  15.368504978221116\n"
     ]
    }
   ],
   "source": [
    "### Question 5\n",
    "\n",
    "\n",
    "# Handle the missing value in the Education column\n",
    "valid_education = [float(e) for e in educations if e != \"missing\"]\n",
    "\n",
    "mean_education = np.mean(valid_education)\n",
    "# Replace missing values with the mean\n",
    "educations_instance = np.array([round(mean_education) if e == \"missing\" else e for e in educations])\n",
    "ages_instance = np.array(ages)\n",
    "credit_scores_instance = np.array(credit_scores)\n",
    "\n",
    "### Perform multiple linear regression\n",
    "# Construct matrix X and vector Y X = [intercept, age, education]\n",
    "X = np.ones((len(ages_instance), 3))\n",
    "X[:, 1] = ages_instance\n",
    "X[:, 2] = educations_instance\n",
    "\n",
    "# Construct vector Y\n",
    "Y = np.array(credit_scores_instance).reshape(-1, 1)\n",
    "\n",
    "# Calculkate (XT * X)^-1 * XT * Y\n",
    "\n",
    "Xt_X = np.dot(X.T, X)\n",
    "Xt_X_inv = np.linalg.inv(Xt_X)\n",
    "Xt_Y = np.dot(X.T, Y)\n",
    "beta = np.dot(Xt_X_inv, Xt_Y)\n",
    "# Extract coefficients\n",
    "\n",
    "print(\"Beta_0 = \", beta[0][0])\n",
    "print(\"Beta_1 = \", beta[1][0])\n",
    "print(\"Beta_2 = \", beta[2][0])\n",
    "\n"
   ]
  }
 ],
 "metadata": {
  "kernelspec": {
   "display_name": "Python 3",
   "language": "python",
   "name": "python3"
  },
  "language_info": {
   "codemirror_mode": {
    "name": "ipython",
    "version": 3
   },
   "file_extension": ".py",
   "mimetype": "text/x-python",
   "name": "python",
   "nbconvert_exporter": "python",
   "pygments_lexer": "ipython3",
   "version": "3.11.9"
  }
 },
 "nbformat": 4,
 "nbformat_minor": 2
}
